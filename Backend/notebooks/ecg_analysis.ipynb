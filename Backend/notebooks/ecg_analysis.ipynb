{
 "cells": [
  {
   "cell_type": "code",
   "execution_count": null,
   "id": "f6724c9a",
   "metadata": {},
   "outputs": [],
   "source": [
    "import wfdb\n",
    "import matplotlib.pyplot as plt\n",
    "\n",
    "# تحميل سجل رقم 100 من قاعدة MIT-BIH مباشرة من الإنترنت\n",
    "record = wfdb.rdrecord('100', pn_dir='mitdb')\n",
    "\n",
    "# عرض معلومات السجل\n",
    "print(record.__dict__)\n",
    "\n",
    "# رسم الإشارة للقناة الأولى\n",
    "plt.plot(record.p_signal[:,0])\n",
    "plt.title('ECG Signal - Channel 0 (Lead)')\n",
    "plt.xlabel('Samples')\n",
    "plt.ylabel('Amplitude')\n",
    "plt.show()\n"
   ]
  }
 ],
 "metadata": {
  "kernelspec": {
   "display_name": "DSP",
   "language": "python",
   "name": "python3"
  },
  "language_info": {
   "name": "python",
   "version": "3.10.18"
  }
 },
 "nbformat": 4,
 "nbformat_minor": 5
}
